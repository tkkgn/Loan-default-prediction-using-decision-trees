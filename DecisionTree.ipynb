{
  "nbformat": 4,
  "nbformat_minor": 0,
  "metadata": {
    "colab": {
      "name": "DecisionTree.ipynb",
      "provenance": [],
      "collapsed_sections": []
    },
    "kernelspec": {
      "name": "python3",
      "display_name": "Python 3"
    },
    "language_info": {
      "name": "python"
    }
  },
  "cells": [
    {
      "cell_type": "code",
      "execution_count": 1,
      "metadata": {
        "id": "iXC8ZAF0QiMZ"
      },
      "outputs": [],
      "source": [
        "import pandas as pd\n",
        "import json"
      ]
    },
    {
      "cell_type": "code",
      "source": [
        "from google.colab import drive\n",
        "drive.mount('/content/drive')"
      ],
      "metadata": {
        "colab": {
          "base_uri": "https://localhost:8080/"
        },
        "id": "MsnsZmYiRi-G",
        "outputId": "4b1aca5e-4141-41c4-ba2e-eb4addd47295"
      },
      "execution_count": 2,
      "outputs": [
        {
          "output_type": "stream",
          "name": "stdout",
          "text": [
            "Drive already mounted at /content/drive; to attempt to forcibly remount, call drive.mount(\"/content/drive\", force_remount=True).\n"
          ]
        }
      ]
    },
    {
      "cell_type": "code",
      "source": [
        "path = '/content/drive/MyDrive/DecisionTree/'\n",
        "loans = pd.read_csv(path + 'lending-club-data.csv',low_memory=False)"
      ],
      "metadata": {
        "id": "EdP9jInHQr08"
      },
      "execution_count": 3,
      "outputs": []
    },
    {
      "cell_type": "code",
      "source": [
        "loans.info()"
      ],
      "metadata": {
        "colab": {
          "base_uri": "https://localhost:8080/"
        },
        "id": "qs4idKaOSGZp",
        "outputId": "ebf65e23-b4ae-45ad-e274-3e338cd75765"
      },
      "execution_count": 4,
      "outputs": [
        {
          "output_type": "stream",
          "name": "stdout",
          "text": [
            "<class 'pandas.core.frame.DataFrame'>\n",
            "RangeIndex: 122607 entries, 0 to 122606\n",
            "Data columns (total 68 columns):\n",
            " #   Column                       Non-Null Count   Dtype  \n",
            "---  ------                       --------------   -----  \n",
            " 0   id                           122607 non-null  int64  \n",
            " 1   member_id                    122607 non-null  int64  \n",
            " 2   loan_amnt                    122607 non-null  int64  \n",
            " 3   funded_amnt                  122607 non-null  int64  \n",
            " 4   funded_amnt_inv              122607 non-null  int64  \n",
            " 5   term                         122607 non-null  object \n",
            " 6   int_rate                     122607 non-null  float64\n",
            " 7   installment                  122607 non-null  float64\n",
            " 8   grade                        122607 non-null  object \n",
            " 9   sub_grade                    122607 non-null  object \n",
            " 10  emp_title                    115767 non-null  object \n",
            " 11  emp_length                   118516 non-null  object \n",
            " 12  home_ownership               122607 non-null  object \n",
            " 13  annual_inc                   122603 non-null  float64\n",
            " 14  is_inc_v                     122607 non-null  object \n",
            " 15  issue_d                      122607 non-null  object \n",
            " 16  loan_status                  122607 non-null  object \n",
            " 17  pymnt_plan                   122607 non-null  object \n",
            " 18  url                          122607 non-null  object \n",
            " 19  desc                         60705 non-null   object \n",
            " 20  purpose                      122607 non-null  object \n",
            " 21  title                        122596 non-null  object \n",
            " 22  zip_code                     122607 non-null  object \n",
            " 23  addr_state                   122607 non-null  object \n",
            " 24  dti                          122607 non-null  float64\n",
            " 25  delinq_2yrs                  122578 non-null  float64\n",
            " 26  earliest_cr_line             122578 non-null  object \n",
            " 27  inq_last_6mths               122578 non-null  float64\n",
            " 28  mths_since_last_delinq       50500 non-null   float64\n",
            " 29  mths_since_last_record       12531 non-null   float64\n",
            " 30  open_acc                     122578 non-null  float64\n",
            " 31  pub_rec                      122578 non-null  float64\n",
            " 32  revol_bal                    122607 non-null  int64  \n",
            " 33  revol_util                   122607 non-null  float64\n",
            " 34  total_acc                    122578 non-null  float64\n",
            " 35  initial_list_status          122607 non-null  object \n",
            " 36  out_prncp                    122607 non-null  float64\n",
            " 37  out_prncp_inv                122607 non-null  float64\n",
            " 38  total_pymnt                  122607 non-null  float64\n",
            " 39  total_pymnt_inv              122607 non-null  float64\n",
            " 40  total_rec_prncp              122607 non-null  float64\n",
            " 41  total_rec_int                122607 non-null  float64\n",
            " 42  total_rec_late_fee           122607 non-null  float64\n",
            " 43  recoveries                   122607 non-null  float64\n",
            " 44  collection_recovery_fee      122607 non-null  float64\n",
            " 45  last_pymnt_d                 122271 non-null  object \n",
            " 46  last_pymnt_amnt              122607 non-null  float64\n",
            " 47  next_pymnt_d                 2907 non-null    object \n",
            " 48  last_credit_pull_d           122601 non-null  object \n",
            " 49  collections_12_mths_ex_med   122462 non-null  float64\n",
            " 50  mths_since_last_major_derog  15460 non-null   float64\n",
            " 51  policy_code                  122607 non-null  int64  \n",
            " 52  not_compliant                122607 non-null  int64  \n",
            " 53  status                       122607 non-null  object \n",
            " 54  inactive_loans               122607 non-null  int64  \n",
            " 55  bad_loans                    122607 non-null  int64  \n",
            " 56  emp_length_num               122607 non-null  int64  \n",
            " 57  grade_num                    122607 non-null  int64  \n",
            " 58  sub_grade_num                122607 non-null  float64\n",
            " 59  delinq_2yrs_zero             122578 non-null  float64\n",
            " 60  pub_rec_zero                 122578 non-null  float64\n",
            " 61  collections_12_mths_zero     122462 non-null  float64\n",
            " 62  short_emp                    122607 non-null  int64  \n",
            " 63  payment_inc_ratio            122603 non-null  float64\n",
            " 64  final_d                      122607 non-null  object \n",
            " 65  last_delinq_none             122607 non-null  int64  \n",
            " 66  last_record_none             122607 non-null  int64  \n",
            " 67  last_major_derog_none        122607 non-null  int64  \n",
            "dtypes: float64(29), int64(16), object(23)\n",
            "memory usage: 63.6+ MB\n"
          ]
        }
      ]
    },
    {
      "cell_type": "code",
      "source": [
        "# safe_loans =  1 => safe\n",
        "# safe_loans = -1 => risky\n",
        "loans['safe_loans'] = loans['bad_loans'].apply(lambda x : +1 if x==0 else -1)\n",
        "loans = loans.drop('bad_loans',axis=1)"
      ],
      "metadata": {
        "id": "NDN5lQjiTClI"
      },
      "execution_count": 5,
      "outputs": []
    },
    {
      "cell_type": "code",
      "source": [
        "loans['safe_loans'].value_counts()"
      ],
      "metadata": {
        "colab": {
          "base_uri": "https://localhost:8080/"
        },
        "id": "lQt66Jl7GrBo",
        "outputId": "c708a282-fa3f-4430-ed95-222d5f6cdb3a"
      },
      "execution_count": 6,
      "outputs": [
        {
          "output_type": "execute_result",
          "data": {
            "text/plain": [
              " 1    99457\n",
              "-1    23150\n",
              "Name: safe_loans, dtype: int64"
            ]
          },
          "metadata": {},
          "execution_count": 6
        }
      ]
    },
    {
      "cell_type": "code",
      "source": [
        "# number of risky loans / number of loans\n",
        "loans[loans['safe_loans']==-1].shape[0] / loans['safe_loans'].shape[0] "
      ],
      "metadata": {
        "colab": {
          "base_uri": "https://localhost:8080/"
        },
        "id": "s5pAahBGTdhJ",
        "outputId": "d75eb09e-3df9-491f-b90b-df7688d57f27"
      },
      "execution_count": 7,
      "outputs": [
        {
          "output_type": "execute_result",
          "data": {
            "text/plain": [
              "0.18881466800427382"
            ]
          },
          "metadata": {},
          "execution_count": 7
        }
      ]
    },
    {
      "cell_type": "code",
      "source": [
        "features = ['grade',                     # grade of the loan\n",
        "            'sub_grade',                 # sub-grade of the loan\n",
        "            'short_emp',                 # one year or less of employment\n",
        "            'emp_length_num',            # number of years of employment\n",
        "            'home_ownership',            # home_ownership status: own, mortgage or rent\n",
        "            'dti',                       # debt to income ratio\n",
        "            'purpose',                   # the purpose of the loan\n",
        "            'term',                      # the term of the loan\n",
        "            'last_delinq_none',          # has borrower had a delinquincy\n",
        "            'last_major_derog_none',     # has borrower had 90 day or worse rating\n",
        "            'revol_util',                # percent of available credit being used\n",
        "            'total_rec_late_fee',        # total late fees received to day\n",
        "           ]\n",
        "\n",
        "target = ['safe_loans']                    # prediction target (y) (+1 means safe, -1 is risky)\n",
        "\n",
        "# Extract the feature columns and target column\n",
        "loans = loans[features + target]"
      ],
      "metadata": {
        "id": "8n2f2nbkUihx"
      },
      "execution_count": 8,
      "outputs": []
    },
    {
      "cell_type": "code",
      "source": [
        "loans"
      ],
      "metadata": {
        "colab": {
          "base_uri": "https://localhost:8080/",
          "height": 641
        },
        "id": "K_I0l-rlNfcA",
        "outputId": "bd3b10dd-3ad7-44b2-d7cb-31ffbdf68836"
      },
      "execution_count": 9,
      "outputs": [
        {
          "output_type": "execute_result",
          "data": {
            "text/plain": [
              "       grade sub_grade  short_emp  emp_length_num home_ownership    dti  \\\n",
              "0          B        B2          0              11           RENT  27.65   \n",
              "1          C        C4          1               1           RENT   1.00   \n",
              "2          C        C5          0              11           RENT   8.72   \n",
              "3          C        C1          0              11           RENT  20.00   \n",
              "4          A        A4          0               4           RENT  11.20   \n",
              "...      ...       ...        ...             ...            ...    ...   \n",
              "122602     E        E5          1               0       MORTGAGE   1.50   \n",
              "122603     D        D2          0              11       MORTGAGE  11.26   \n",
              "122604     D        D3          0               6       MORTGAGE  12.28   \n",
              "122605     D        D5          0              11       MORTGAGE  18.45   \n",
              "122606     A        A4          0               4            OWN   5.39   \n",
              "\n",
              "                   purpose        term  last_delinq_none  \\\n",
              "0              credit_card   36 months                 1   \n",
              "1                      car   60 months                 1   \n",
              "2           small_business   36 months                 1   \n",
              "3                    other   36 months                 0   \n",
              "4                  wedding   36 months                 1   \n",
              "...                    ...         ...               ...   \n",
              "122602             medical   60 months                 0   \n",
              "122603  debt_consolidation   36 months                 0   \n",
              "122604             medical   60 months                 0   \n",
              "122605  debt_consolidation   60 months                 1   \n",
              "122606         credit_card   36 months                 0   \n",
              "\n",
              "        last_major_derog_none  revol_util  total_rec_late_fee  safe_loans  \n",
              "0                           1        83.7                0.00           1  \n",
              "1                           1         9.4                0.00          -1  \n",
              "2                           1        98.5                0.00           1  \n",
              "3                           1        21.0               16.97           1  \n",
              "4                           1        28.3                0.00           1  \n",
              "...                       ...         ...                 ...         ...  \n",
              "122602                      0        14.6                0.00          -1  \n",
              "122603                      0        15.2                0.00           1  \n",
              "122604                      0        10.7                0.00          -1  \n",
              "122605                      1        46.3                0.00          -1  \n",
              "122606                      1        21.5                0.00           1  \n",
              "\n",
              "[122607 rows x 13 columns]"
            ],
            "text/html": [
              "\n",
              "  <div id=\"df-b2860afb-8d94-4ec8-836f-ea906cc12350\">\n",
              "    <div class=\"colab-df-container\">\n",
              "      <div>\n",
              "<style scoped>\n",
              "    .dataframe tbody tr th:only-of-type {\n",
              "        vertical-align: middle;\n",
              "    }\n",
              "\n",
              "    .dataframe tbody tr th {\n",
              "        vertical-align: top;\n",
              "    }\n",
              "\n",
              "    .dataframe thead th {\n",
              "        text-align: right;\n",
              "    }\n",
              "</style>\n",
              "<table border=\"1\" class=\"dataframe\">\n",
              "  <thead>\n",
              "    <tr style=\"text-align: right;\">\n",
              "      <th></th>\n",
              "      <th>grade</th>\n",
              "      <th>sub_grade</th>\n",
              "      <th>short_emp</th>\n",
              "      <th>emp_length_num</th>\n",
              "      <th>home_ownership</th>\n",
              "      <th>dti</th>\n",
              "      <th>purpose</th>\n",
              "      <th>term</th>\n",
              "      <th>last_delinq_none</th>\n",
              "      <th>last_major_derog_none</th>\n",
              "      <th>revol_util</th>\n",
              "      <th>total_rec_late_fee</th>\n",
              "      <th>safe_loans</th>\n",
              "    </tr>\n",
              "  </thead>\n",
              "  <tbody>\n",
              "    <tr>\n",
              "      <th>0</th>\n",
              "      <td>B</td>\n",
              "      <td>B2</td>\n",
              "      <td>0</td>\n",
              "      <td>11</td>\n",
              "      <td>RENT</td>\n",
              "      <td>27.65</td>\n",
              "      <td>credit_card</td>\n",
              "      <td>36 months</td>\n",
              "      <td>1</td>\n",
              "      <td>1</td>\n",
              "      <td>83.7</td>\n",
              "      <td>0.00</td>\n",
              "      <td>1</td>\n",
              "    </tr>\n",
              "    <tr>\n",
              "      <th>1</th>\n",
              "      <td>C</td>\n",
              "      <td>C4</td>\n",
              "      <td>1</td>\n",
              "      <td>1</td>\n",
              "      <td>RENT</td>\n",
              "      <td>1.00</td>\n",
              "      <td>car</td>\n",
              "      <td>60 months</td>\n",
              "      <td>1</td>\n",
              "      <td>1</td>\n",
              "      <td>9.4</td>\n",
              "      <td>0.00</td>\n",
              "      <td>-1</td>\n",
              "    </tr>\n",
              "    <tr>\n",
              "      <th>2</th>\n",
              "      <td>C</td>\n",
              "      <td>C5</td>\n",
              "      <td>0</td>\n",
              "      <td>11</td>\n",
              "      <td>RENT</td>\n",
              "      <td>8.72</td>\n",
              "      <td>small_business</td>\n",
              "      <td>36 months</td>\n",
              "      <td>1</td>\n",
              "      <td>1</td>\n",
              "      <td>98.5</td>\n",
              "      <td>0.00</td>\n",
              "      <td>1</td>\n",
              "    </tr>\n",
              "    <tr>\n",
              "      <th>3</th>\n",
              "      <td>C</td>\n",
              "      <td>C1</td>\n",
              "      <td>0</td>\n",
              "      <td>11</td>\n",
              "      <td>RENT</td>\n",
              "      <td>20.00</td>\n",
              "      <td>other</td>\n",
              "      <td>36 months</td>\n",
              "      <td>0</td>\n",
              "      <td>1</td>\n",
              "      <td>21.0</td>\n",
              "      <td>16.97</td>\n",
              "      <td>1</td>\n",
              "    </tr>\n",
              "    <tr>\n",
              "      <th>4</th>\n",
              "      <td>A</td>\n",
              "      <td>A4</td>\n",
              "      <td>0</td>\n",
              "      <td>4</td>\n",
              "      <td>RENT</td>\n",
              "      <td>11.20</td>\n",
              "      <td>wedding</td>\n",
              "      <td>36 months</td>\n",
              "      <td>1</td>\n",
              "      <td>1</td>\n",
              "      <td>28.3</td>\n",
              "      <td>0.00</td>\n",
              "      <td>1</td>\n",
              "    </tr>\n",
              "    <tr>\n",
              "      <th>...</th>\n",
              "      <td>...</td>\n",
              "      <td>...</td>\n",
              "      <td>...</td>\n",
              "      <td>...</td>\n",
              "      <td>...</td>\n",
              "      <td>...</td>\n",
              "      <td>...</td>\n",
              "      <td>...</td>\n",
              "      <td>...</td>\n",
              "      <td>...</td>\n",
              "      <td>...</td>\n",
              "      <td>...</td>\n",
              "      <td>...</td>\n",
              "    </tr>\n",
              "    <tr>\n",
              "      <th>122602</th>\n",
              "      <td>E</td>\n",
              "      <td>E5</td>\n",
              "      <td>1</td>\n",
              "      <td>0</td>\n",
              "      <td>MORTGAGE</td>\n",
              "      <td>1.50</td>\n",
              "      <td>medical</td>\n",
              "      <td>60 months</td>\n",
              "      <td>0</td>\n",
              "      <td>0</td>\n",
              "      <td>14.6</td>\n",
              "      <td>0.00</td>\n",
              "      <td>-1</td>\n",
              "    </tr>\n",
              "    <tr>\n",
              "      <th>122603</th>\n",
              "      <td>D</td>\n",
              "      <td>D2</td>\n",
              "      <td>0</td>\n",
              "      <td>11</td>\n",
              "      <td>MORTGAGE</td>\n",
              "      <td>11.26</td>\n",
              "      <td>debt_consolidation</td>\n",
              "      <td>36 months</td>\n",
              "      <td>0</td>\n",
              "      <td>0</td>\n",
              "      <td>15.2</td>\n",
              "      <td>0.00</td>\n",
              "      <td>1</td>\n",
              "    </tr>\n",
              "    <tr>\n",
              "      <th>122604</th>\n",
              "      <td>D</td>\n",
              "      <td>D3</td>\n",
              "      <td>0</td>\n",
              "      <td>6</td>\n",
              "      <td>MORTGAGE</td>\n",
              "      <td>12.28</td>\n",
              "      <td>medical</td>\n",
              "      <td>60 months</td>\n",
              "      <td>0</td>\n",
              "      <td>0</td>\n",
              "      <td>10.7</td>\n",
              "      <td>0.00</td>\n",
              "      <td>-1</td>\n",
              "    </tr>\n",
              "    <tr>\n",
              "      <th>122605</th>\n",
              "      <td>D</td>\n",
              "      <td>D5</td>\n",
              "      <td>0</td>\n",
              "      <td>11</td>\n",
              "      <td>MORTGAGE</td>\n",
              "      <td>18.45</td>\n",
              "      <td>debt_consolidation</td>\n",
              "      <td>60 months</td>\n",
              "      <td>1</td>\n",
              "      <td>1</td>\n",
              "      <td>46.3</td>\n",
              "      <td>0.00</td>\n",
              "      <td>-1</td>\n",
              "    </tr>\n",
              "    <tr>\n",
              "      <th>122606</th>\n",
              "      <td>A</td>\n",
              "      <td>A4</td>\n",
              "      <td>0</td>\n",
              "      <td>4</td>\n",
              "      <td>OWN</td>\n",
              "      <td>5.39</td>\n",
              "      <td>credit_card</td>\n",
              "      <td>36 months</td>\n",
              "      <td>0</td>\n",
              "      <td>1</td>\n",
              "      <td>21.5</td>\n",
              "      <td>0.00</td>\n",
              "      <td>1</td>\n",
              "    </tr>\n",
              "  </tbody>\n",
              "</table>\n",
              "<p>122607 rows × 13 columns</p>\n",
              "</div>\n",
              "      <button class=\"colab-df-convert\" onclick=\"convertToInteractive('df-b2860afb-8d94-4ec8-836f-ea906cc12350')\"\n",
              "              title=\"Convert this dataframe to an interactive table.\"\n",
              "              style=\"display:none;\">\n",
              "        \n",
              "  <svg xmlns=\"http://www.w3.org/2000/svg\" height=\"24px\"viewBox=\"0 0 24 24\"\n",
              "       width=\"24px\">\n",
              "    <path d=\"M0 0h24v24H0V0z\" fill=\"none\"/>\n",
              "    <path d=\"M18.56 5.44l.94 2.06.94-2.06 2.06-.94-2.06-.94-.94-2.06-.94 2.06-2.06.94zm-11 1L8.5 8.5l.94-2.06 2.06-.94-2.06-.94L8.5 2.5l-.94 2.06-2.06.94zm10 10l.94 2.06.94-2.06 2.06-.94-2.06-.94-.94-2.06-.94 2.06-2.06.94z\"/><path d=\"M17.41 7.96l-1.37-1.37c-.4-.4-.92-.59-1.43-.59-.52 0-1.04.2-1.43.59L10.3 9.45l-7.72 7.72c-.78.78-.78 2.05 0 2.83L4 21.41c.39.39.9.59 1.41.59.51 0 1.02-.2 1.41-.59l7.78-7.78 2.81-2.81c.8-.78.8-2.07 0-2.86zM5.41 20L4 18.59l7.72-7.72 1.47 1.35L5.41 20z\"/>\n",
              "  </svg>\n",
              "      </button>\n",
              "      \n",
              "  <style>\n",
              "    .colab-df-container {\n",
              "      display:flex;\n",
              "      flex-wrap:wrap;\n",
              "      gap: 12px;\n",
              "    }\n",
              "\n",
              "    .colab-df-convert {\n",
              "      background-color: #E8F0FE;\n",
              "      border: none;\n",
              "      border-radius: 50%;\n",
              "      cursor: pointer;\n",
              "      display: none;\n",
              "      fill: #1967D2;\n",
              "      height: 32px;\n",
              "      padding: 0 0 0 0;\n",
              "      width: 32px;\n",
              "    }\n",
              "\n",
              "    .colab-df-convert:hover {\n",
              "      background-color: #E2EBFA;\n",
              "      box-shadow: 0px 1px 2px rgba(60, 64, 67, 0.3), 0px 1px 3px 1px rgba(60, 64, 67, 0.15);\n",
              "      fill: #174EA6;\n",
              "    }\n",
              "\n",
              "    [theme=dark] .colab-df-convert {\n",
              "      background-color: #3B4455;\n",
              "      fill: #D2E3FC;\n",
              "    }\n",
              "\n",
              "    [theme=dark] .colab-df-convert:hover {\n",
              "      background-color: #434B5C;\n",
              "      box-shadow: 0px 1px 3px 1px rgba(0, 0, 0, 0.15);\n",
              "      filter: drop-shadow(0px 1px 2px rgba(0, 0, 0, 0.3));\n",
              "      fill: #FFFFFF;\n",
              "    }\n",
              "  </style>\n",
              "\n",
              "      <script>\n",
              "        const buttonEl =\n",
              "          document.querySelector('#df-b2860afb-8d94-4ec8-836f-ea906cc12350 button.colab-df-convert');\n",
              "        buttonEl.style.display =\n",
              "          google.colab.kernel.accessAllowed ? 'block' : 'none';\n",
              "\n",
              "        async function convertToInteractive(key) {\n",
              "          const element = document.querySelector('#df-b2860afb-8d94-4ec8-836f-ea906cc12350');\n",
              "          const dataTable =\n",
              "            await google.colab.kernel.invokeFunction('convertToInteractive',\n",
              "                                                     [key], {});\n",
              "          if (!dataTable) return;\n",
              "\n",
              "          const docLinkHtml = 'Like what you see? Visit the ' +\n",
              "            '<a target=\"_blank\" href=https://colab.research.google.com/notebooks/data_table.ipynb>data table notebook</a>'\n",
              "            + ' to learn more about interactive tables.';\n",
              "          element.innerHTML = '';\n",
              "          dataTable['output_type'] = 'display_data';\n",
              "          await google.colab.output.renderOutput(dataTable, element);\n",
              "          const docLink = document.createElement('div');\n",
              "          docLink.innerHTML = docLinkHtml;\n",
              "          element.appendChild(docLink);\n",
              "        }\n",
              "      </script>\n",
              "    </div>\n",
              "  </div>\n",
              "  "
            ]
          },
          "metadata": {},
          "execution_count": 9
        }
      ]
    },
    {
      "cell_type": "markdown",
      "source": [
        "# One-hot Encoding"
      ],
      "metadata": {
        "id": "pEKl34LiMgHI"
      }
    },
    {
      "cell_type": "code",
      "source": [
        "loans_one_hot_encoding = pd.get_dummies(loans)"
      ],
      "metadata": {
        "id": "mTJXbWkuMi_v"
      },
      "execution_count": 10,
      "outputs": []
    },
    {
      "cell_type": "code",
      "source": [
        "with open(path + 'module-5-assignment-1-train-idx.json') as train_index, open(path + 'module-5-assignment-1-validation-idx.json') as validation_index:\n",
        "    train_idx = json.load(train_index)\n",
        "    validation_idx = json.load(validation_index)\n",
        "train_data = loans_one_hot_encoding.iloc[train_idx]\n",
        "validation_data = loans_one_hot_encoding.iloc[validation_idx]\n"
      ],
      "metadata": {
        "id": "j5qzpvSP8e4-"
      },
      "execution_count": 11,
      "outputs": []
    },
    {
      "cell_type": "code",
      "source": [
        "train_data.info()"
      ],
      "metadata": {
        "colab": {
          "base_uri": "https://localhost:8080/"
        },
        "id": "mXo7VNQIHTuW",
        "outputId": "ccee565b-43e0-4789-fba0-90069e3e496d"
      },
      "execution_count": 12,
      "outputs": [
        {
          "output_type": "stream",
          "name": "stdout",
          "text": [
            "<class 'pandas.core.frame.DataFrame'>\n",
            "Int64Index: 37224 entries, 1 to 122603\n",
            "Data columns (total 68 columns):\n",
            " #   Column                      Non-Null Count  Dtype  \n",
            "---  ------                      --------------  -----  \n",
            " 0   short_emp                   37224 non-null  int64  \n",
            " 1   emp_length_num              37224 non-null  int64  \n",
            " 2   dti                         37224 non-null  float64\n",
            " 3   last_delinq_none            37224 non-null  int64  \n",
            " 4   last_major_derog_none       37224 non-null  int64  \n",
            " 5   revol_util                  37224 non-null  float64\n",
            " 6   total_rec_late_fee          37224 non-null  float64\n",
            " 7   safe_loans                  37224 non-null  int64  \n",
            " 8   grade_A                     37224 non-null  uint8  \n",
            " 9   grade_B                     37224 non-null  uint8  \n",
            " 10  grade_C                     37224 non-null  uint8  \n",
            " 11  grade_D                     37224 non-null  uint8  \n",
            " 12  grade_E                     37224 non-null  uint8  \n",
            " 13  grade_F                     37224 non-null  uint8  \n",
            " 14  grade_G                     37224 non-null  uint8  \n",
            " 15  sub_grade_A1                37224 non-null  uint8  \n",
            " 16  sub_grade_A2                37224 non-null  uint8  \n",
            " 17  sub_grade_A3                37224 non-null  uint8  \n",
            " 18  sub_grade_A4                37224 non-null  uint8  \n",
            " 19  sub_grade_A5                37224 non-null  uint8  \n",
            " 20  sub_grade_B1                37224 non-null  uint8  \n",
            " 21  sub_grade_B2                37224 non-null  uint8  \n",
            " 22  sub_grade_B3                37224 non-null  uint8  \n",
            " 23  sub_grade_B4                37224 non-null  uint8  \n",
            " 24  sub_grade_B5                37224 non-null  uint8  \n",
            " 25  sub_grade_C1                37224 non-null  uint8  \n",
            " 26  sub_grade_C2                37224 non-null  uint8  \n",
            " 27  sub_grade_C3                37224 non-null  uint8  \n",
            " 28  sub_grade_C4                37224 non-null  uint8  \n",
            " 29  sub_grade_C5                37224 non-null  uint8  \n",
            " 30  sub_grade_D1                37224 non-null  uint8  \n",
            " 31  sub_grade_D2                37224 non-null  uint8  \n",
            " 32  sub_grade_D3                37224 non-null  uint8  \n",
            " 33  sub_grade_D4                37224 non-null  uint8  \n",
            " 34  sub_grade_D5                37224 non-null  uint8  \n",
            " 35  sub_grade_E1                37224 non-null  uint8  \n",
            " 36  sub_grade_E2                37224 non-null  uint8  \n",
            " 37  sub_grade_E3                37224 non-null  uint8  \n",
            " 38  sub_grade_E4                37224 non-null  uint8  \n",
            " 39  sub_grade_E5                37224 non-null  uint8  \n",
            " 40  sub_grade_F1                37224 non-null  uint8  \n",
            " 41  sub_grade_F2                37224 non-null  uint8  \n",
            " 42  sub_grade_F3                37224 non-null  uint8  \n",
            " 43  sub_grade_F4                37224 non-null  uint8  \n",
            " 44  sub_grade_F5                37224 non-null  uint8  \n",
            " 45  sub_grade_G1                37224 non-null  uint8  \n",
            " 46  sub_grade_G2                37224 non-null  uint8  \n",
            " 47  sub_grade_G3                37224 non-null  uint8  \n",
            " 48  sub_grade_G4                37224 non-null  uint8  \n",
            " 49  sub_grade_G5                37224 non-null  uint8  \n",
            " 50  home_ownership_MORTGAGE     37224 non-null  uint8  \n",
            " 51  home_ownership_OTHER        37224 non-null  uint8  \n",
            " 52  home_ownership_OWN          37224 non-null  uint8  \n",
            " 53  home_ownership_RENT         37224 non-null  uint8  \n",
            " 54  purpose_car                 37224 non-null  uint8  \n",
            " 55  purpose_credit_card         37224 non-null  uint8  \n",
            " 56  purpose_debt_consolidation  37224 non-null  uint8  \n",
            " 57  purpose_home_improvement    37224 non-null  uint8  \n",
            " 58  purpose_house               37224 non-null  uint8  \n",
            " 59  purpose_major_purchase      37224 non-null  uint8  \n",
            " 60  purpose_medical             37224 non-null  uint8  \n",
            " 61  purpose_moving              37224 non-null  uint8  \n",
            " 62  purpose_other               37224 non-null  uint8  \n",
            " 63  purpose_small_business      37224 non-null  uint8  \n",
            " 64  purpose_vacation            37224 non-null  uint8  \n",
            " 65  purpose_wedding             37224 non-null  uint8  \n",
            " 66  term_ 36 months             37224 non-null  uint8  \n",
            " 67  term_ 60 months             37224 non-null  uint8  \n",
            "dtypes: float64(3), int64(5), uint8(60)\n",
            "memory usage: 4.7 MB\n"
          ]
        }
      ]
    },
    {
      "cell_type": "code",
      "source": [
        "# number of risky loans / number of loans in train_data\n",
        "train_data[train_data['safe_loans']==-1].shape[0] / train_data['safe_loans'].shape[0] "
      ],
      "metadata": {
        "colab": {
          "base_uri": "https://localhost:8080/"
        },
        "id": "fIEA23DYIlKB",
        "outputId": "ba75b61f-1624-43ff-c047-245b3dcd2c7c"
      },
      "execution_count": 13,
      "outputs": [
        {
          "output_type": "execute_result",
          "data": {
            "text/plain": [
              "0.4963464431549538"
            ]
          },
          "metadata": {},
          "execution_count": 13
        }
      ]
    },
    {
      "cell_type": "markdown",
      "source": [
        "# Build a decision tree classifier with maximum depth = 2 and 6"
      ],
      "metadata": {
        "id": "2pMwYyFiI12x"
      }
    },
    {
      "cell_type": "code",
      "source": [
        "train_Y = train_data['safe_loans'].to_numpy()\n",
        "train_X = train_data.drop('safe_loans', axis=1).to_numpy()\n",
        "print(train_Y.shape)\n",
        "print(train_X.shape)"
      ],
      "metadata": {
        "colab": {
          "base_uri": "https://localhost:8080/"
        },
        "id": "KFeB18EQI4Ka",
        "outputId": "1b6d5900-2946-41c8-e311-a0d46a3589be"
      },
      "execution_count": 14,
      "outputs": [
        {
          "output_type": "stream",
          "name": "stdout",
          "text": [
            "(37224,)\n",
            "(37224, 67)\n"
          ]
        }
      ]
    },
    {
      "cell_type": "code",
      "source": [
        "from sklearn.tree import DecisionTreeClassifier\n",
        "decision_tree_model = DecisionTreeClassifier(max_depth=6)\n",
        "decision_tree_model = decision_tree_model.fit(train_X, train_Y)\n",
        "\n",
        "small_model = DecisionTreeClassifier(max_depth=2)\n",
        "small_model = small_model.fit(train_X, train_Y)"
      ],
      "metadata": {
        "id": "tBEjnmm4JkQk"
      },
      "execution_count": 15,
      "outputs": []
    },
    {
      "cell_type": "code",
      "source": [
        "from sklearn import tree\n",
        "import graphviz \n",
        "from os import system\n",
        "\n",
        "dot_data = tree.export_graphviz(small_model, out_file='simple_tree.dot',\n",
        "                               feature_names=train_data.drop('safe_loans', axis=1).columns,  \n",
        "                         class_names=['+1','-1'],  \n",
        "                         filled=True, rounded=True,  \n",
        "                         special_characters=True) \n",
        "system(\"dot -Tpng simple_tree.dot -o simple_tree.png\")\n",
        "\n",
        "from IPython.display import Image\n",
        "Image(filename='simple_tree.png')"
      ],
      "metadata": {
        "colab": {
          "base_uri": "https://localhost:8080/",
          "height": 435
        },
        "id": "FSgENcA7TEBO",
        "outputId": "14a2cb65-2764-4810-f891-2eaae130c2e1"
      },
      "execution_count": 16,
      "outputs": [
        {
          "output_type": "execute_result",
          "data": {
            "text/plain": [
              "<IPython.core.display.Image object>"
            ],
            "image/png": "[encoded data removed]"
          },
          "metadata": {},
          "execution_count": 16
        }
      ]
    },
    {
      "cell_type": "markdown",
      "source": [
        "# Making predictions\n",
        "\n",
        "Let's consider two positive and two negative examples from the validation set and see what the model predicts. We will do the following:\n",
        "\n",
        "*   Predict whether or not a loan is safe.\n",
        "*   Predict the probability that a loan is safe."
      ],
      "metadata": {
        "id": "SRRQYN3JUoNq"
      }
    },
    {
      "cell_type": "code",
      "source": [
        "validation_safe_loans = validation_data[validation_data['safe_loans'] == 1]\n",
        "validation_risky_loans = validation_data[validation_data['safe_loans'] == -1]"
      ],
      "metadata": {
        "id": "ucABOJAIUpxH"
      },
      "execution_count": 17,
      "outputs": []
    },
    {
      "cell_type": "code",
      "source": [
        "#predict first ten row in validation safe data\n",
        "validation_safe_loans_test = validation_safe_loans.drop('safe_loans', axis=1).to_numpy()\n",
        "decision_tree_model.predict(validation_safe_loans_test[:10])"
      ],
      "metadata": {
        "colab": {
          "base_uri": "https://localhost:8080/"
        },
        "id": "Za56e1vRWLA-",
        "outputId": "55ae2670-3d87-4b1b-8c5a-4eb7abf77bd0"
      },
      "execution_count": 18,
      "outputs": [
        {
          "output_type": "execute_result",
          "data": {
            "text/plain": [
              "array([ 1, -1, -1,  1,  1,  1,  1,  1,  1,  1])"
            ]
          },
          "metadata": {},
          "execution_count": 18
        }
      ]
    },
    {
      "cell_type": "code",
      "source": [
        "#probability of first ten row in validation safe data as safe\n",
        "decision_tree_model.predict_proba(validation_safe_loans_test[:10])"
      ],
      "metadata": {
        "colab": {
          "base_uri": "https://localhost:8080/"
        },
        "id": "y1HeHzYWay67",
        "outputId": "c60183d8-29d2-454f-c42a-dcd8cc3f1a96"
      },
      "execution_count": 19,
      "outputs": [
        {
          "output_type": "execute_result",
          "data": {
            "text/plain": [
              "array([[0.34156543, 0.65843457],\n",
              "       [0.53630646, 0.46369354],\n",
              "       [0.57326622, 0.42673378],\n",
              "       [0.4440545 , 0.5559455 ],\n",
              "       [0.13135593, 0.86864407],\n",
              "       [0.4440545 , 0.5559455 ],\n",
              "       [0.42984474, 0.57015526],\n",
              "       [0.13135593, 0.86864407],\n",
              "       [0.34156543, 0.65843457],\n",
              "       [0.34156543, 0.65843457]])"
            ]
          },
          "metadata": {},
          "execution_count": 19
        }
      ]
    },
    {
      "cell_type": "code",
      "source": [
        "validation_Y = validation_data['safe_loans'].to_numpy()\n",
        "validation_X = validation_data.drop('safe_loans', axis=1).to_numpy()"
      ],
      "metadata": {
        "id": "6qCkgV7Qc0t0"
      },
      "execution_count": 20,
      "outputs": []
    },
    {
      "cell_type": "code",
      "source": [
        "small_model.score(validation_X, validation_Y)"
      ],
      "metadata": {
        "colab": {
          "base_uri": "https://localhost:8080/"
        },
        "id": "DyZC6UwSdJKX",
        "outputId": "79e5dd6d-ef4c-4a9c-b496-e4b660f1c014"
      },
      "execution_count": 21,
      "outputs": [
        {
          "output_type": "execute_result",
          "data": {
            "text/plain": [
              "0.6193451098664369"
            ]
          },
          "metadata": {},
          "execution_count": 21
        }
      ]
    },
    {
      "cell_type": "code",
      "source": [
        "decision_tree_model.score(validation_X, validation_Y)"
      ],
      "metadata": {
        "colab": {
          "base_uri": "https://localhost:8080/"
        },
        "id": "FSKgaa5BdOVi",
        "outputId": "03a44bbd-f156-4626-c6c9-a93e3a5475ed"
      },
      "execution_count": 22,
      "outputs": [
        {
          "output_type": "execute_result",
          "data": {
            "text/plain": [
              "0.6361482119775959"
            ]
          },
          "metadata": {},
          "execution_count": 22
        }
      ]
    },
    {
      "cell_type": "markdown",
      "source": [
        "We can see that the small_model performs worse than the decision_tree_model on the training data.\n"
      ],
      "metadata": {
        "id": "kBaguH8BdagA"
      }
    },
    {
      "cell_type": "markdown",
      "source": [
        "# Train a decision tree with maximum depth = 10"
      ],
      "metadata": {
        "id": "M9HbJpn0eB0n"
      }
    },
    {
      "cell_type": "code",
      "source": [
        "big_model = DecisionTreeClassifier(max_depth=10)\n",
        "big_model = big_model.fit(train_X,train_Y)"
      ],
      "metadata": {
        "id": "28dlBCxHddF7"
      },
      "execution_count": 23,
      "outputs": []
    },
    {
      "cell_type": "code",
      "source": [
        "big_model.score(train_X, train_Y)"
      ],
      "metadata": {
        "colab": {
          "base_uri": "https://localhost:8080/"
        },
        "id": "pIKPG8yUeVBt",
        "outputId": "91902be2-ec8c-41d8-ce8f-030a2d538702"
      },
      "execution_count": 24,
      "outputs": [
        {
          "output_type": "execute_result",
          "data": {
            "text/plain": [
              "0.6637921770900495"
            ]
          },
          "metadata": {},
          "execution_count": 24
        }
      ]
    },
    {
      "cell_type": "code",
      "source": [
        "big_model.score(validation_X, validation_Y)"
      ],
      "metadata": {
        "colab": {
          "base_uri": "https://localhost:8080/"
        },
        "id": "de1h1cf-eiht",
        "outputId": "9b3252df-1aa3-40f3-c6f2-1e2e7f71f9d4"
      },
      "execution_count": 25,
      "outputs": [
        {
          "output_type": "execute_result",
          "data": {
            "text/plain": [
              "0.6269926755708746"
            ]
          },
          "metadata": {},
          "execution_count": 25
        }
      ]
    },
    {
      "cell_type": "markdown",
      "source": [
        "The big_model has more features, performs better on the training dataset, but worse on the validation dataset. This is a sign of overfitting."
      ],
      "metadata": {
        "id": "xR3r3rhzey5i"
      }
    }
  ]
}